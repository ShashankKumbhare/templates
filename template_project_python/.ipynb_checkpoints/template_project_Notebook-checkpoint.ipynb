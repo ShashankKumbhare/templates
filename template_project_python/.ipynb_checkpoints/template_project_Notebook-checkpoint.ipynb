{
 "cells": [
  {
   "cell_type": "code",
   "execution_count": 1,
   "id": "aed3b65f",
   "metadata": {
    "scrolled": false
   },
   "outputs": [
    {
     "name": "stdout",
     "output_type": "stream",
     "text": [
      "\n",
      "==========================================================================\n",
      "Importing package 'template_pkg'...\n",
      "==========================================================================\n",
      "\n",
      " + Adding subpackage '__dependencies_subpkg__'...\n",
      "   + Adding submodule '__dependencies_subpkg__.dependencies_submod'...\n",
      "   - Done!\n",
      " - Done!\n",
      "\n",
      " + Adding subpackage '__constants_subpkg__'...\n",
      "   + Adding submodule '__constants_subpkg__.constants_submod'...\n",
      "   - Done!\n",
      " - Done!\n",
      "\n",
      " + Adding subpackage '__auxil_subpkg__'...\n",
      "   + Adding submodule '__auxil_subpkg__.auxil_submod'...\n",
      "   - Done!\n",
      " - Done!\n",
      "\n",
      " + Adding subpackage 'template_subpkg'...\n",
      "   + Adding submodule 'template_subpkg.template_submod'...\n",
      "   - Done!\n",
      " - Done!\n",
      "\n",
      " + Adding module 'template_mod'...\n",
      " - Done!\n",
      "\n",
      "==========================================================================\n",
      "Package 'template_pkg' imported sucessfully !!\n",
      "==========================================================================\n",
      "\n"
     ]
    }
   ],
   "source": [
    "import template_pkg as tlc"
   ]
  },
  {
   "cell_type": "code",
   "execution_count": 2,
   "id": "df7ca974",
   "metadata": {
    "scrolled": true
   },
   "outputs": [
    {
     "name": "stdout",
     "output_type": "stream",
     "text": [
      "This is a print from 'template_mod.template_mod_func'.\n",
      "The following line will print from template_subpkg.template_submod\n",
      "This is a print from '..template_subpkg.template_submod.template_submod_func'.\n"
     ]
    }
   ],
   "source": [
    "tlc.template_mod_func()"
   ]
  },
  {
   "cell_type": "code",
   "execution_count": 4,
   "id": "a717e27b",
   "metadata": {},
   "outputs": [],
   "source": [
    "# tlc.template_subpkg.template_submod_func()"
   ]
  },
  {
   "cell_type": "code",
   "execution_count": 5,
   "id": "67fb5e6b",
   "metadata": {},
   "outputs": [
    {
     "data": {
      "text/plain": [
       "1"
      ]
     },
     "execution_count": 5,
     "metadata": {},
     "output_type": "execute_result"
    }
   ],
   "source": [
    "tlc.CONSTANT1"
   ]
  },
  {
   "cell_type": "code",
   "execution_count": 6,
   "id": "6e8710df",
   "metadata": {},
   "outputs": [
    {
     "data": {
      "text/plain": [
       "2"
      ]
     },
     "execution_count": 6,
     "metadata": {},
     "output_type": "execute_result"
    }
   ],
   "source": [
    "tlc.CONSTANT2"
   ]
  },
  {
   "cell_type": "code",
   "execution_count": 8,
   "id": "4e5e2c77",
   "metadata": {},
   "outputs": [],
   "source": [
    "# str( tlc.template_subpkg.template_submod_func )"
   ]
  },
  {
   "cell_type": "code",
   "execution_count": 9,
   "id": "fcc1171c",
   "metadata": {},
   "outputs": [],
   "source": [
    "# tlc."
   ]
  },
  {
   "cell_type": "code",
   "execution_count": null,
   "id": "91e2de58",
   "metadata": {},
   "outputs": [],
   "source": []
  },
  {
   "cell_type": "code",
   "execution_count": null,
   "id": "cadc9e20",
   "metadata": {},
   "outputs": [],
   "source": []
  },
  {
   "cell_type": "code",
   "execution_count": null,
   "id": "68ba7f94",
   "metadata": {},
   "outputs": [],
   "source": []
  },
  {
   "cell_type": "code",
   "execution_count": null,
   "id": "1e5baeaa",
   "metadata": {},
   "outputs": [],
   "source": []
  },
  {
   "cell_type": "code",
   "execution_count": null,
   "id": "aa2e2226",
   "metadata": {},
   "outputs": [],
   "source": []
  },
  {
   "cell_type": "code",
   "execution_count": null,
   "id": "ba431811",
   "metadata": {},
   "outputs": [],
   "source": []
  },
  {
   "cell_type": "code",
   "execution_count": null,
   "id": "1e7ad912",
   "metadata": {},
   "outputs": [],
   "source": []
  }
 ],
 "metadata": {
  "kernelspec": {
   "display_name": "Python 3 (ipykernel)",
   "language": "python",
   "name": "python3"
  },
  "language_info": {
   "codemirror_mode": {
    "name": "ipython",
    "version": 3
   },
   "file_extension": ".py",
   "mimetype": "text/x-python",
   "name": "python",
   "nbconvert_exporter": "python",
   "pygments_lexer": "ipython3",
   "version": "3.9.12"
  }
 },
 "nbformat": 4,
 "nbformat_minor": 5
}
